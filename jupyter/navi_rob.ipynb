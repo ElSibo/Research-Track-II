{
 "cells": [
  {
   "cell_type": "markdown",
   "id": "a0cffc2d",
   "metadata": {},
   "source": [
    "# Navi_Goal_rob"
   ]
  },
  {
   "cell_type": "markdown",
   "id": "270c8ead",
   "metadata": {
    "slideshow": {
     "slide_type": "-"
    }
   },
   "source": [
    "#### Description:\n",
    "\n",
    " this node allows for user three type of choise \n",
    "\n",
    "In the user interface with three choices:\n",
    "\n",
    "A) GO TO POINT: \n",
    "Where the user enters the coordinates of the point where the robot must go.\n",
    "\n",
    "B) CONTROLLER: \n",
    "Where the user moves the robot with a controller,\n",
    "but the robot can crash with obstacles.\n",
    "\n",
    "C) ASSISTENT CONTROLLER: \n",
    "where the user moves the robot with a controller, \n",
    "but the robot does not crash into obstacles, \n",
    "because it is equipped with laserscan which makes it stop near obstacles.\n",
    "\n",
    " and after reading the choise of user  \n",
    " send it to other node"
   ]
  },
  {
   "cell_type": "markdown",
   "id": "ca43c334",
   "metadata": {},
   "source": [
    "##### that is the library that we are used to implement the program"
   ]
  },
  {
   "cell_type": "code",
   "execution_count": 2,
   "id": "03741361",
   "metadata": {
    "ExecuteTime": {
     "end_time": "2022-06-04T00:52:55.672104Z",
     "start_time": "2022-06-04T00:52:54.826536Z"
    },
    "slideshow": {
     "slide_type": "-"
    }
   },
   "outputs": [],
   "source": [
    "#!/usr/bin/env python3\n",
    "\n",
    "import rospy\n",
    "from move_base_msgs.msg import MoveBaseAction\n",
    "from move_base_msgs.msg import MoveBaseGoal\n",
    "from geometry_msgs.msg import Point32\n",
    "from nav_msgs.msg import Odometry\n",
    "import actionlib\n",
    "import matplotlib.pyplot as plt \n",
    "import time\n",
    "from time import sleep \n",
    "import ipywidgets as widgets\n",
    "from ipywidgets import Button, Layout, ButtonStyle, GridBox, VBox, HBox \n",
    "from IPython.display import display\n",
    "from __future__ import print_function\n",
    "from ipywidgets import interact, interactive, fixed, interact_manual \n",
    "import jupyros as jr\n",
    "from jupyros import ros3d \n",
    "import os\n",
    "from sensor_msgs.msg import LaserScan\n"
   ]
  },
  {
   "cell_type": "markdown",
   "id": "d53a5cbe",
   "metadata": {
    "slideshow": {
     "slide_type": "-"
    }
   },
   "source": [
    "### goPoint()"
   ]
  },
  {
   "cell_type": "markdown",
   "id": "3846fe3e",
   "metadata": {
    "slideshow": {
     "slide_type": "-"
    }
   },
   "source": [
    " #### Description:\n",
    "\n",
    " This function let the user insert the coordinate of the point \n",
    " and if this cordinate are out of the perimeter request them again\n",
    " otherwise stop controller and send the to server the coordinate\n",
    " then ask the user if wont to calcel the goal and\n",
    " if yes cancel the goal\n",
    " if no starting with timeout "
   ]
  },
  {
   "cell_type": "markdown",
   "id": "dc72ffc5",
   "metadata": {},
   "source": [
    "##### function that we used to implement the function go to point\n",
    "    setX():\n",
    "        function used for set the coordinate X of Goal\n",
    "    setY():\n",
    "        function  used for set the coordinate Y of Goal\n",
    "    pos_rob():\n",
    "        function  used for find the coordinate of the of the robot\n",
    "    V_Cancel():\n",
    "        function used for check the choice of the user for canceling Goal\n",
    "    SendGoal():\n",
    "        function  used for send the coordinate of Goal to the server MoveBase\n",
    "    Timeout():\n",
    "        function used for set the timeout and to cancel the Goal if user want it\n",
    "    stopping():\n",
    "        function used for stop the function go_Point with closing the widgets"
   ]
  },
  {
   "cell_type": "code",
   "execution_count": 8,
   "id": "1e3c4849",
   "metadata": {
    "ExecuteTime": {
     "end_time": "2022-06-01T13:10:42.991946Z",
     "start_time": "2022-06-01T13:10:42.970603Z"
    },
    "slideshow": {
     "slide_type": "-"
    }
   },
   "outputs": [],
   "source": [
    "global G_Ret\n",
    "global GNot_Ret\n",
    "global t\n",
    "t=False\n",
    "G_Ret=0\n",
    "GNot_Ret=0\n",
    "\n",
    "def setX(b):\n",
    "    global Cordx\n",
    "    Cordx=b['new']\n",
    "    \n",
    "def setY(b):\n",
    "    global Cordy\n",
    "    Cordy=b['new']\n",
    "    \n",
    "def pos_rob(m):\n",
    "    global x_rob\n",
    "    global y_rob\n",
    "    x_rob = m.pose.pose.position.x\n",
    "    y_rob = m.pose.pose.position.y\n",
    "        \n",
    "def V_Cancel(b):\n",
    "    \n",
    "    t=b['new']\n",
    "    \n",
    "    \n",
    "    \n",
    "def goPoint(n):\n",
    "\n",
    "   #tell the action client that we want to spin a thread by default\n",
    "\n",
    "    ac = actionlib.SimpleActionClient('move_base',MoveBaseAction)\n",
    "\n",
    "    rospy.loginfo(\"Waiting for action server to start.\")\n",
    "  # wait for the action server to start\n",
    "\n",
    "    def SendGoal(b): \n",
    "  \n",
    "            goal = MoveBaseGoal()\n",
    "\n",
    "\n",
    "              #we'll send a goal to the robot to move 1 meter forward\n",
    "            goal = MoveBaseGoal()\n",
    "            goal.target_pose.header.frame_id = \"map\"\n",
    "            goal.target_pose.header.stamp = rospy.Time.now()\n",
    "            goal.target_pose.pose.position.x = Cordx\n",
    "            goal.target_pose.pose.position.y = Cordy\n",
    "            goal.target_pose.pose.orientation.w = 1.0\n",
    "\n",
    "              #will wait for infinite time\n",
    "\n",
    "            print(\"cordinate Goal : \",goal.target_pose.pose.position.y,goal.target_pose.pose.position.x)\n",
    "            \n",
    "            ac.send_goal(goal)\n",
    "     \n",
    "    def Timeout(b):\n",
    "\n",
    "           \n",
    "        BCancelG=widgets.Checkbox(value=False,description='Cancel Goal',disabled=False,indent=False)\n",
    "        display(BCancelG)\n",
    "        rospy.loginfo(\"Waiting the goal for 25 second\")\n",
    "        sleep(5)\n",
    "        \n",
    "        BCancelG.observe(V_Cancel,names='value')\n",
    "        if t:\n",
    "            ac.cancel_all_goals()\n",
    "            rospy.loginfo(\"Goal Canceled !!!\")\n",
    "            \n",
    "        else:\n",
    "        \n",
    "            sleep(20)\n",
    "            if (Cordx-0.4 < x_rob < Cordx+0.4) and (Cordy-0.4 < y_rob < Cordy+0.4):\n",
    "\n",
    "                rospy.loginfo(\"Goal Rechead !!!\")\n",
    "                G_Ret=G_Ret+1\n",
    "            else:\n",
    "                ac.cancel_all_goals()\n",
    "                rospy.loginfo(\"Goal not Reached !!!\")\n",
    "                GNot_Ret=GNot_Ret+1\n",
    "        BCancelG.close()\n",
    "        \n",
    "    def stopping(b):\n",
    "        BSendG.close()\n",
    "        X.close()\n",
    "        Y.close()\n",
    "        Bstop.close()\n",
    "        \n",
    "    X=widgets.FloatText(description='X_cord:',disabled=False)\n",
    "    Y=widgets.FloatText(description='Y_cord:',disabled=False)\n",
    "\n",
    "    BSendG = widgets.Button(description='Send_Goal',disabled=False,button_style='',tooltip='Click me',icon='check')\n",
    "    Bstop = widgets.Button(description='STOP',disabled=False,button_style='danger',tooltip='Click me',icon='check')\n",
    "    my_vel= Point32()\n",
    "    my_vel.x =0.0\n",
    "    my_vel.y =0.0 \n",
    "    my_vel.z=n\t\t\t# to stop the controller\n",
    "    pub.publish(my_vel)\n",
    "    X.observe(setX, names='value')\n",
    "    Y.observe(setY, names='value') \n",
    "    BSendG.on_click(SendGoal)\n",
    "    BSendG.on_click(Timeout)\n",
    "    Bstop.on_click(stopping)\n",
    "    display(HBox([VBox([X, Bstop]),VBox([Y,BSendG])]))\n"
   ]
  },
  {
   "cell_type": "markdown",
   "id": "77ff04e2",
   "metadata": {
    "slideshow": {
     "slide_type": "slide"
    }
   },
   "source": [
    "### controller()"
   ]
  },
  {
   "cell_type": "markdown",
   "id": "566a70b7",
   "metadata": {
    "slideshow": {
     "slide_type": "-"
    }
   },
   "source": [
    " #### Description:\n",
    " \n",
    " This function read input of the user, \n",
    " and set the linear and angular velocity on /vel_cont\n",
    " and set the assistant control to on/off"
   ]
  },
  {
   "cell_type": "markdown",
   "id": "085a9712",
   "metadata": {
    "ExecuteTime": {
     "end_time": "2022-05-31T17:57:32.409038Z",
     "start_time": "2022-05-31T17:57:32.395146Z"
    }
   },
   "source": [
    "##### function that we used to implement the function  controller\n",
    "    VLin():\n",
    "        function used for set the linear velocity of robot\n",
    "    VAng():\n",
    "        function  used for set the Angular velocity of robot\n",
    "    resetV():\n",
    "        function  used for reset to 0 the velocity of the robot\n",
    "    stopping():\n",
    "        function used for stop the function controller with closing the widgets"
   ]
  },
  {
   "cell_type": "code",
   "execution_count": 3,
   "id": "f4fc6b1e",
   "metadata": {
    "ExecuteTime": {
     "end_time": "2022-06-01T13:06:48.162846Z",
     "start_time": "2022-06-01T13:06:48.151610Z"
    },
    "slideshow": {
     "slide_type": "-"
    }
   },
   "outputs": [],
   "source": [
    "\n",
    "\n",
    "def controller(n):\n",
    "\n",
    "\t\n",
    "\tb=0;c=0;z=n\n",
    "\t\n",
    "\tdef VLin(x):\n",
    "\t    my_vel= Point32()\n",
    "\t    my_vel.x =x['new']\n",
    "\t    my_vel.y =c \n",
    "\t    my_vel.z=z\n",
    "\t    pub.publish(my_vel)\n",
    "\tdef VAng(x):\n",
    "\t    my_vel= Point32()\n",
    "\t    my_vel.x =b\n",
    "\t    my_vel.y =x['new']\n",
    "\t    my_vel.z=z\n",
    "\t    pub.publish(my_vel)\n",
    "\tdef resetV(b):\n",
    "\t    if b:\n",
    "\t        my_vel= Point32()\n",
    "\t        my_vel.x =0\n",
    "\t        my_vel.y =0\n",
    "\t        my_vel.z=z\n",
    "\t        pub.publish(my_vel)\n",
    "\tif 1: \n",
    "\n",
    "\t\tvl=widgets.FloatSlider(value=0,min=-5.0,max=5.0,step=0.2,description='v.linear :',disabled=False,continuous_update=True,orientation='vertical',readout=True,readout_format='.1f',)\n",
    "\t\tva=widgets.FloatSlider(value=0,min=-10,max=10.0,step=0.1,description='V.angular :',disabled=False,continuous_update=True,readout=True,readout_format='.1f',)\n",
    "\t\tbutt=widgets.Button(description='STOP',disabled=False,button_style='danger', tooltip='Click me',icon='check')\n",
    "\t\tresbutt = widgets.Button(description='Reset',disabled=False,button_style='warning',tooltip='Click me',icon='check' )\n",
    "\t\tdef stoping(b):\n",
    "\t\t\t\tif b:\n",
    "\t\t\t\t\tva.close()\n",
    "\t\t\t\t\tvl.close()\n",
    "\t\t\t\t\tbutt.close()\n",
    "\t\t\t\t\tresbutt.close()\n",
    "                \n",
    "\t\tdisplay(GridBox(children=[vl,va], layout=Layout(\n",
    "        width='50%',\n",
    "        grid_template_rows='auto centered', grid_template_columns='50%  50%,50%  50%', grid_template_areas='''\n",
    "        \" vl  .\" \n",
    "        \".  va\"\n",
    "        ''')\n",
    "        ))\n",
    "\t\tdisplay(HBox([butt,resbutt]))\n",
    "\t\tva.observe(VAng,names='value')\n",
    "\t\tvl.observe(VLin, names='value')\n",
    "\n",
    "\t\tbutt.on_click(stoping)\n",
    "\t\tresbutt.on_click(resetV)\n",
    "        \n",
    "\n",
    "\n"
   ]
  },
  {
   "cell_type": "markdown",
   "id": "3d3d32cb",
   "metadata": {
    "slideshow": {
     "slide_type": "-"
    }
   },
   "source": [
    "### main()"
   ]
  },
  {
   "cell_type": "markdown",
   "id": "8410bcac",
   "metadata": {
    "slideshow": {
     "slide_type": "-"
    }
   },
   "source": [
    "####  Description:\n",
    "\n",
    " the main function initialize the node, the nodehandler\n",
    " and the publisher, after that start with a andless loop\n",
    " wich calls the functions depending of the user choise\n",
    " break the loop and stopping the node.  "
   ]
  },
  {
   "cell_type": "markdown",
   "id": "bf9a4ed1",
   "metadata": {},
   "source": [
    "##### function that we used to implement the function  main\n",
    "    On_p():\n",
    "        function used for call_back function goPoint()\n",
    "    contr():\n",
    "        function  used for call_back function controller() Assistant_Controller = OFF\n",
    "    Acontr():\n",
    "        function  used for call_back function controller() Assistant_Controller = ON\n",
    "    stopping():\n",
    "        function used for stop the program with the function exit() exiting from program"
   ]
  },
  {
   "cell_type": "code",
   "execution_count": 4,
   "id": "3cb92a41",
   "metadata": {
    "ExecuteTime": {
     "end_time": "2022-06-01T13:06:48.171376Z",
     "start_time": "2022-06-01T13:06:48.166428Z"
    },
    "slideshow": {
     "slide_type": "-"
    }
   },
   "outputs": [],
   "source": [
    "\n",
    "\n",
    "def on_p(b):\n",
    "    if b:\n",
    "        goPoint(-1.0)\n",
    "def contr(b):\n",
    "    if b:\n",
    "        controller(1.0)\n",
    "def Acontr(b):\n",
    "    if b:\n",
    "        controller(2.0)\n",
    "\n",
    "\n",
    "def main():\n",
    "\tglobal pub\n",
    "\tglobal sub\n",
    "\trospy.init_node('navi_goal_rob')\n",
    "\tpub = rospy.Publisher('/vel_cont', Point32, queue_size=1)#defined the pulisher\n",
    "\tsub = rospy.Subscriber('/odom', Odometry , pos_rob)\n",
    "\n",
    "\tbutton = widgets.Button(description='STOP',disabled=False,button_style='danger',tooltip='Click me',icon='check')\n",
    "\t\n",
    "\tif 1:\n",
    "\n",
    "\n",
    "\t\tBgp = widgets.Button(description=\"go_Point\",button_style='info',tooltip='Click me')\n",
    "\t\tBc = widgets.Button(description=\"Controller\",button_style='info',tooltip='Click me')\n",
    "\t\tBac = widgets.Button(description=\"AssController\",button_style='info',tooltip='Click me')\n",
    "\t\tdef stoping(b):\n",
    "\t\t\tif b:\n",
    "\t\t\t\texit()\n",
    "\t\tbutton.on_click(stoping)\n",
    "\n",
    "\t\tBgp.on_click(on_p)\n",
    "\t\tBc.on_click(contr)\n",
    "\t\tBac.on_click(Acontr)\n",
    "        \n",
    "\n",
    "\t\tdisplay(HBox([Bgp,VBox([Bc, button]),Bac]))\n"
   ]
  },
  {
   "cell_type": "markdown",
   "id": "0a23b98c",
   "metadata": {},
   "source": [
    "##### that is the call_back of the main function "
   ]
  },
  {
   "cell_type": "code",
   "execution_count": 5,
   "id": "4c0cf066",
   "metadata": {
    "ExecuteTime": {
     "end_time": "2022-06-01T13:06:48.496222Z",
     "start_time": "2022-06-01T13:06:48.173302Z"
    },
    "scrolled": false
   },
   "outputs": [
    {
     "data": {
      "application/vnd.jupyter.widget-view+json": {
       "model_id": "f56a2ef2308340e0961c82f4383553e5",
       "version_major": 2,
       "version_minor": 0
      },
      "text/plain": [
       "HBox(children=(Button(button_style='info', description='go_Point', style=ButtonStyle(), tooltip='Click me'), V…"
      ]
     },
     "metadata": {},
     "output_type": "display_data"
    },
    {
     "name": "stdout",
     "output_type": "stream",
     "text": [
      "[INFO] [1654088911.180997, 202.326000]: Waiting for action server to start.\n"
     ]
    },
    {
     "data": {
      "application/vnd.jupyter.widget-view+json": {
       "model_id": "cd4ab9516d1641c2b54e67bad764e6a6",
       "version_major": 2,
       "version_minor": 0
      },
      "text/plain": [
       "HBox(children=(VBox(children=(FloatText(value=0.0, description='X_cord:'), Button(button_style='danger', descr…"
      ]
     },
     "metadata": {},
     "output_type": "display_data"
    },
    {
     "name": "stdout",
     "output_type": "stream",
     "text": [
      "cordinate Goal :  0.1 0.1\n"
     ]
    },
    {
     "data": {
      "application/vnd.jupyter.widget-view+json": {
       "model_id": "0a9446bdfc17415fbd328cf002f782e2",
       "version_major": 2,
       "version_minor": 0
      },
      "text/plain": [
       "Checkbox(value=False, description='Cancel Goal', indent=False)"
      ]
     },
     "metadata": {},
     "output_type": "display_data"
    },
    {
     "name": "stdout",
     "output_type": "stream",
     "text": [
      "[INFO] [1654088958.684438, 241.173000]: Waiting the goal for 25 second\n",
      "[INFO] [1654088983.716831, 261.368000]: Goal not Reached !!!\n"
     ]
    },
    {
     "ename": "UnboundLocalError",
     "evalue": "local variable 'GNot_Ret' referenced before assignment",
     "output_type": "error",
     "traceback": [
      "\u001b[0;31m---------------------------------------------------------------------------\u001b[0m",
      "\u001b[0;31mUnboundLocalError\u001b[0m                         Traceback (most recent call last)",
      "Input \u001b[0;32mIn [2]\u001b[0m, in \u001b[0;36mgoPoint.<locals>.Timeout\u001b[0;34m(b)\u001b[0m\n\u001b[1;32m     75\u001b[0m         ac\u001b[38;5;241m.\u001b[39mcancel_all_goals()\n\u001b[1;32m     76\u001b[0m         rospy\u001b[38;5;241m.\u001b[39mloginfo(\u001b[38;5;124m\"\u001b[39m\u001b[38;5;124mGoal not Reached !!!\u001b[39m\u001b[38;5;124m\"\u001b[39m)\n\u001b[0;32m---> 77\u001b[0m         GNot_Ret\u001b[38;5;241m=\u001b[39m\u001b[43mGNot_Ret\u001b[49m\u001b[38;5;241m+\u001b[39m\u001b[38;5;241m1\u001b[39m\n\u001b[1;32m     78\u001b[0m BCancelG\u001b[38;5;241m.\u001b[39mclose()\n",
      "\u001b[0;31mUnboundLocalError\u001b[0m: local variable 'GNot_Ret' referenced before assignment"
     ]
    },
    {
     "data": {
      "application/vnd.jupyter.widget-view+json": {
       "model_id": "5d406826488f47e085b4d98171c79211",
       "version_major": 2,
       "version_minor": 0
      },
      "text/plain": [
       "GridBox(children=(FloatSlider(value=0.0, description='v.linear :', max=5.0, min=-5.0, orientation='vertical', …"
      ]
     },
     "metadata": {},
     "output_type": "display_data"
    },
    {
     "data": {
      "application/vnd.jupyter.widget-view+json": {
       "model_id": "cf0adfd1d46e4928bddda0fb1ac94b56",
       "version_major": 2,
       "version_minor": 0
      },
      "text/plain": [
       "HBox(children=(Button(button_style='danger', description='STOP', icon='check', style=ButtonStyle(), tooltip='C…"
      ]
     },
     "metadata": {},
     "output_type": "display_data"
    }
   ],
   "source": [
    "if __name__ == '__main__':\n",
    "    main()\n"
   ]
  },
  {
   "cell_type": "markdown",
   "id": "198327bd",
   "metadata": {},
   "source": [
    "##### that label show the 3D view of the simulation "
   ]
  },
  {
   "cell_type": "code",
   "execution_count": 6,
   "id": "0f665a40",
   "metadata": {
    "ExecuteTime": {
     "end_time": "2022-06-01T13:06:48.534194Z",
     "start_time": "2022-06-01T13:06:48.498730Z"
    }
   },
   "outputs": [
    {
     "data": {
      "application/vnd.jupyter.widget-view+json": {
       "model_id": "56ff86abda984e9c884a262a6aabe34f",
       "version_major": 2,
       "version_minor": 0
      },
      "text/plain": [
       "Viewer(objects=[GridModel(), LaserScan(ros=ROSConnection(url='ws://localhost:9090'), tf_client=TFClient(fixed_…"
      ]
     },
     "metadata": {},
     "output_type": "display_data"
    }
   ],
   "source": [
    "# 3D view of the fobot and of the enviroment \n",
    "\n",
    "v = ros3d.Viewer()\n",
    "rc = ros3d.ROSConnection(url=\"ws://localhost:9090\") \n",
    "tf_client = ros3d.TFClient(ros=rc, fixed_frame='map')\n",
    "laser_view = ros3d.LaserScan(topic=\"/scan\", ros=rc, tf_client=tf_client) \n",
    "map_view = ros3d.OccupancyGrid(topic=\"/map\", ros=rc, tf_client=tf_client) \n",
    "path = ros3d.Path(topic=\"/move_base/NavfnROS/plan\", ros=rc, tf_client=tf_client)\n",
    "urdf = ros3d.URDFModel(ros=rc, tf_client=tf_client, path=os.environ.get('JUPYROS_ASSETS_URL', 'http://localhost:3000')) \n",
    "g = ros3d.GridModel()\n",
    "v.objects = [g, laser_view, map_view, path, urdf]\n",
    "v\n"
   ]
  },
  {
   "cell_type": "markdown",
   "id": "05487e19",
   "metadata": {},
   "source": [
    "#### that labe show thw graf abot reach and not reach goal"
   ]
  },
  {
   "cell_type": "code",
   "execution_count": 5,
   "id": "04d32901",
   "metadata": {
    "ExecuteTime": {
     "end_time": "2022-06-03T20:50:49.408146Z",
     "start_time": "2022-06-03T20:50:49.396724Z"
    }
   },
   "outputs": [
    {
     "data": {
      "application/vnd.jupyter.widget-view+json": {
       "model_id": "fa2b803fb14a4b1f9ecd386e5eeaff67",
       "version_major": 2,
       "version_minor": 0
      },
      "text/plain": [
       "Button(description='Click Me!', style=ButtonStyle())"
      ]
     },
     "metadata": {},
     "output_type": "display_data"
    },
    {
     "data": {
      "application/vnd.jupyter.widget-view+json": {
       "model_id": "a934acf5724246d6b32ce3ec663c99e8",
       "version_major": 2,
       "version_minor": 0
      },
      "image/png": "[encoded data removed]",
      "text/html": [
       "\n",
       "            <div style=\"display: inline-block;\">\n",
       "                <div class=\"jupyter-widgets widget-label\" style=\"text-align: center;\">\n",
       "                    Figure\n",
       "                </div>\n",
       "                <img src='data:image/png;base64,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' width=640.0/>\n",
       "            </div>\n",
       "        "
      ],
      "text/plain": [
       "Canvas(toolbar=Toolbar(toolitems=[('Home', 'Reset original view', 'home', 'home'), ('Back', 'Back to previous …"
      ]
     },
     "metadata": {},
     "output_type": "display_data"
    }
   ],
   "source": [
    "%matplotlib widget\n",
    "bu = widgets.Button(description=\"Click Me!\") \n",
    "display(bu)\n",
    "\n",
    "def on_button_clicked(b):\n",
    "    n=[G_Ret,GNot_Ret,(G_Ret + GNot_Ret)]\n",
    "    q=[\"Goal Reach\",\"Goal Not Reach\",\"Total Goal\"]\n",
    "    fig = plt.bar(q,n)\n",
    "bu.on_click(on_button_clicked)"
   ]
  },
  {
   "cell_type": "code",
   "execution_count": 4,
   "id": "6127d72a",
   "metadata": {
    "ExecuteTime": {
     "end_time": "2022-06-04T00:53:28.038524Z",
     "start_time": "2022-06-04T00:53:28.018551Z"
    },
    "scrolled": true
   },
   "outputs": [
    {
     "data": {
      "application/vnd.jupyter.widget-view+json": {
       "model_id": "a5e188b68d134404985b33ab3696b1a2",
       "version_major": 2,
       "version_minor": 0
      },
      "text/plain": [
       "Button(description='Click Me!', style=ButtonStyle())"
      ]
     },
     "metadata": {},
     "output_type": "display_data"
    },
    {
     "data": {
      "image/png": "[encoded data removed]",
      "text/plain": [
       "<Figure size 432x288 with 1 Axes>"
      ]
     },
     "metadata": {
      "needs_background": "light"
     },
     "output_type": "display_data"
    }
   ],
   "source": [
    "global rang\n",
    "rang=[]\n",
    "def plotlaser(b):\n",
    "    def laser(b):\n",
    "        rang=b.ranges[0:720]\n",
    "        plt.plot(rang)\n",
    "        plt.title(\"Laser_scanner\")\n",
    "    sub = rospy.Subscriber('/scan', LaserScan , laser)\n",
    "    plt.plot(rang)\n",
    "    plt.title(\"Laser_scanner\")\n",
    "bu = widgets.Button(description=\"Click Me!\") \n",
    "display(bu)\n",
    "bu.on_click(plotlaser)"
   ]
  },
  {
   "cell_type": "code",
   "execution_count": null,
   "id": "b587d8aa",
   "metadata": {},
   "outputs": [],
   "source": []
  }
 ],
 "metadata": {
  "celltoolbar": "Slideshow",
  "hide_input": false,
  "kernelspec": {
   "display_name": "Python 3 (ipykernel)",
   "language": "python",
   "name": "python3"
  },
  "language_info": {
   "codemirror_mode": {
    "name": "ipython",
    "version": 3
   },
   "file_extension": ".py",
   "mimetype": "text/x-python",
   "name": "python",
   "nbconvert_exporter": "python",
   "pygments_lexer": "ipython3",
   "version": "3.8.10"
  },
  "toc": {
   "base_numbering": 1,
   "nav_menu": {},
   "number_sections": true,
   "sideBar": true,
   "skip_h1_title": false,
   "title_cell": "Table of Contents",
   "title_sidebar": "Contents",
   "toc_cell": false,
   "toc_position": {},
   "toc_section_display": true,
   "toc_window_display": false
  },
  "varInspector": {
   "cols": {
    "lenName": 16,
    "lenType": 16,
    "lenVar": 40
   },
   "kernels_config": {
    "python": {
     "delete_cmd_postfix": "",
     "delete_cmd_prefix": "del ",
     "library": "var_list.py",
     "varRefreshCmd": "print(var_dic_list())"
    },
    "r": {
     "delete_cmd_postfix": ") ",
     "delete_cmd_prefix": "rm(",
     "library": "var_list.r",
     "varRefreshCmd": "cat(var_dic_list()) "
    }
   },
   "types_to_exclude": [
    "module",
    "function",
    "builtin_function_or_method",
    "instance",
    "_Feature"
   ],
   "window_display": false
  }
 },
 "nbformat": 4,
 "nbformat_minor": 5
}
